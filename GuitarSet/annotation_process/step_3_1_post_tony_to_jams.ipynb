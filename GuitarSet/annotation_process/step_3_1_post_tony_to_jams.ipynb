{
 "cells": [
  {
   "cell_type": "code",
   "execution_count": 1,
   "metadata": {},
   "outputs": [],
   "source": [
    "import pretty_midi\n",
    "import numpy as np\n",
    "import mir_eval.display\n",
    "import librosa.display\n",
    "import matplotlib.pyplot as plt\n",
    "import vamp\n",
    "import tempfile\n",
    "import glob\n",
    "import os\n",
    "import sox\n",
    "import csv\n",
    "import jams\n",
    "from IPython.display import Audio\n",
    "%matplotlib inline"
   ]
  },
  {
   "cell_type": "code",
   "execution_count": 2,
   "metadata": {},
   "outputs": [],
   "source": [
    "def save_as_jams(outname, audiopath, adjusted_onsets):\n",
    "    jam = jams.JAMS()\n",
    "    jam.file_metadata.duration = sox.file_info.duration(audiopath)\n",
    "    ann = jams.Annotation(\n",
    "        namespace='onset', time=0,\n",
    "        duration=jam.file_metadata.duration\n",
    "    )\n",
    "    ann.annotation_metadata.data_source = str(outname.split('_')[-1])\n",
    "    for onset_time in adjusted_onsets:\n",
    "        ann.append(time=onset_time, duration=0)\n",
    "    jam.annotations.append(ann)\n",
    "    jam.save(outname+'_onset.jams')\n",
    "    return jam\n",
    "\n",
    "def csv_to_jams(outname, audiopath):\n",
    "    #save pt.csv as jams\n",
    "    jam = jams.JAMS()\n",
    "    jam.file_metadata.duration = sox.file_info.duration(audiopath)\n",
    "    \n",
    "    ann_raw_pt = jams.Annotation(\n",
    "        namespace='pitch_contour', time=0,\n",
    "        duration=jam.file_metadata.duration\n",
    "    )\n",
    "    ann_raw_pt.annotation_metadata.data_source = str(os.path.basename(outname).split('_')[0])\n",
    "    \n",
    "    with open(outname+'_pt.csv', 'r') as pt:\n",
    "        reader = csv.reader(pt)\n",
    "        for row in reader:\n",
    "            ann_raw_pt.append(time=float(row[0]), duration=0, confidence=None,\n",
    "                       value={'voiced': True if row[1] else False, 'index': 0, 'frequency': float(row[1])})\n",
    "    \n",
    "    ann_pt = jams.Annotation(\n",
    "        namespace='pitch_contour', time=0,\n",
    "        duration=jam.file_metadata.duration\n",
    "    )\n",
    "    ann_pt.annotation_metadata.data_source = str(os.path.basename(outname).split('_')[0])\n",
    "    ann_note = jams.Annotation(\n",
    "        namespace='note_midi', time=0,\n",
    "        duration=jam.file_metadata.duration\n",
    "    )\n",
    "    ann_note.annotation_metadata.data_source = str(os.path.basename(outname).split('_')[0])\n",
    "    \n",
    "    with open(outname+'_onoff.csv', 'r') as onoff:\n",
    "        reader = csv.reader(onoff)\n",
    "        for on_time, off_time in reader:\n",
    "            on_time = float(on_time)\n",
    "            off_time = float(off_time)\n",
    "            if on_time >= off_time:\n",
    "                continue\n",
    "            ann_pt_seg = ann_raw_pt.trim(on_time, off_time)\n",
    "            for obs in ann_pt_seg:\n",
    "                ann_pt.append(time=obs.time, duration=obs.duration, value=obs.value, confidence=obs.confidence)\n",
    "            pitch_midi = get_pitch(ann_pt_seg)\n",
    "#             print(pitch_hz)\n",
    "            if pitch_midi == 0:\n",
    "                continue\n",
    "#             pitch = librosa.hz_to_midi(pitch_hz)\n",
    "            ann_note.append(time=on_time, duration=off_time-on_time, value=pitch_midi, confidence=None)\n",
    "            \n",
    "        \n",
    "    jam.annotations.append(ann_pt)       \n",
    "    jam.annotations.append(ann_note)            \n",
    "    jam.save(outname+'.jams')\n",
    "    return jam\n",
    "\n",
    "def get_pitch(ann, verbose=False):\n",
    "    avg_pitch = 0\n",
    "    count = 0\n",
    "    time_freq = []\n",
    "    for obs in ann.data:\n",
    "        if obs.value['voiced'] and float(obs.value['frequency']) > 30: # if its voiced\n",
    "            time_freq.append([obs.time, float(obs.value['frequency'])])\n",
    "            count += 1\n",
    "    \n",
    "    time_freq = np.asarray(time_freq)\n",
    "    if verbose:\n",
    "        plt.plot(time_freq.T[0], librosa.hz_to_midi(time_freq.T[1]))\n",
    "    \n",
    "    if count < 4:\n",
    "        if verbose:\n",
    "            plt.show()\n",
    "        return 0\n",
    "    else:\n",
    "        low_idx = int(count/4)\n",
    "        high_idx = int(count/2)\n",
    "        avg_pitch = np.mean(librosa.hz_to_midi(time_freq.T[1, low_idx:high_idx]))\n",
    "#         print(avg_pitch)\n",
    "        if verbose:\n",
    "            plt.hlines(avg_pitch, time_freq.T[0,0], time_freq.T[0,-1])\n",
    "            plt.show()\n",
    "        return avg_pitch\n",
    "    \n",
    "    \n",
    "def build_jams(ordered_jam_list, on, off, piece, outdir):\n",
    "    new_jam = jams.JAMS()\n",
    "    new_jam.file_metadata.duration = off-on\n",
    "    outname = os.path.join(outdir, piece+'.jams')\n",
    "    \n",
    "    for jam in ordered_jam_list:\n",
    "        ann_pt = jam.search(namespace=\"pitch_contour\")[0].slice(on, off)\n",
    "        ann_note = jam.search(namespace=\"note_midi\")[0].slice(on, off)\n",
    "        new_jam.annotations.append(ann_pt)\n",
    "        new_jam.annotations.append(ann_note)\n",
    "        \n",
    "    new_jam.save(outname)"
   ]
  },
  {
   "cell_type": "code",
   "execution_count": 3,
   "metadata": {},
   "outputs": [
    {
     "name": "stdout",
     "output_type": "stream",
     "text": [
      "['./Bounces/0_c_1.wav', './Bounces/1_c_1.wav', './Bounces/2_c_1.wav', './Bounces/3_c_1.wav', './Bounces/4_c_1.wav', './Bounces/5_c_1.wav']\n"
     ]
    }
   ],
   "source": [
    "audiopaths = glob.glob('./Bounces/*.wav')\n",
    "audiopaths.sort()\n",
    "print(audiopaths)"
   ]
  },
  {
   "cell_type": "code",
   "execution_count": 4,
   "metadata": {
    "scrolled": false
   },
   "outputs": [
    {
     "name": "stdout",
     "output_type": "stream",
     "text": [
      "new audio file!\n",
      "new audio file!\n",
      "new audio file!\n",
      "new audio file!\n",
      "new audio file!\n",
      "new audio file!\n"
     ]
    }
   ],
   "source": [
    "all_jam = []\n",
    "for audiopath in audiopaths:\n",
    "#     audiopath = audiopaths[1]\n",
    "    print(\"new audio file!\")\n",
    "    fname = audiopath.split('/')[-1].split('.')[0]\n",
    "    outname = os.path.join('./post_tony',fname)\n",
    "    all_jam.append(csv_to_jams(outname, audiopath))"
   ]
  },
  {
   "cell_type": "code",
   "execution_count": 5,
   "metadata": {},
   "outputs": [
    {
     "name": "stdout",
     "output_type": "stream",
     "text": [
      "0\n",
      "1\n",
      "2\n",
      "3\n",
      "4\n",
      "5\n",
      "6\n",
      "7\n",
      "8\n",
      "9\n",
      "10\n",
      "11\n",
      "12\n",
      "13\n",
      "14\n",
      "15\n",
      "16\n",
      "17\n",
      "18\n",
      "19\n",
      "20\n",
      "21\n",
      "22\n",
      "23\n",
      "24\n",
      "25\n",
      "26\n",
      "27\n",
      "28\n",
      "29\n"
     ]
    }
   ],
   "source": [
    "with open('cutting_times.csv', 'r') as onoff:\n",
    "    i = 0\n",
    "    reader = csv.reader(onoff)\n",
    "    for on, off, piece in reader:\n",
    "        print(i)\n",
    "        i += 1\n",
    "        on = float(on)\n",
    "        off = float(off)\n",
    "        piece += '_comp'\n",
    "        build_jams(all_jam, on, off, piece, './jams')"
   ]
  },
  {
   "cell_type": "code",
   "execution_count": null,
   "metadata": {},
   "outputs": [],
   "source": []
  }
 ],
 "metadata": {
  "kernelspec": {
   "display_name": "Python 3",
   "language": "python",
   "name": "python3"
  },
  "language_info": {
   "codemirror_mode": {
    "name": "ipython",
    "version": 3
   },
   "file_extension": ".py",
   "mimetype": "text/x-python",
   "name": "python",
   "nbconvert_exporter": "python",
   "pygments_lexer": "ipython3",
   "version": "3.6.4"
  }
 },
 "nbformat": 4,
 "nbformat_minor": 2
}
