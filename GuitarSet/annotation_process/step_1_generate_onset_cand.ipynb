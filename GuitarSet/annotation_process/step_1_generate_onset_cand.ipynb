{
 "cells": [
  {
   "cell_type": "code",
   "execution_count": 1,
   "metadata": {},
   "outputs": [],
   "source": [
    "import vamp\n",
    "import librosa\n",
    "import numpy as np\n",
    "import pretty_midi\n",
    "import jams\n",
    "import os\n",
    "import glob"
   ]
  },
  {
   "cell_type": "code",
   "execution_count": 2,
   "metadata": {},
   "outputs": [],
   "source": [
    "def rough_midi(inpath, outpath=None):\n",
    "    # gets a rough midi trasncription using pYin Note from inpath.wav to outpath.mid\n",
    "    if os.path.exists(outpath):\n",
    "        print('file already exist')\n",
    "        return 0\n",
    "        #check if outpath exist, return 0.\n",
    "        \n",
    "    y, fs = librosa.load(inpath, sr=None)\n",
    "#     tempo = int(inpath.split('_')[1].split('-')[1])\n",
    "    print('finished loading')\n",
    "    \n",
    "    param = {\"threshdistr\": 2,\n",
    "             \"lowampsuppression\": 0.08,\n",
    "             \"outputunvoiced\": 2,\n",
    "             \"precisetime\": 0,\n",
    "             \"prunethresh\": 0.05,\n",
    "             \"onsetsensitivity\": 0.8}\n",
    "\n",
    "    pyin_note_output = vamp.collect(y, fs, 'pyin:pyin', output='notes', parameters=param)['list']\n",
    "    print('finished pYin')\n",
    "    midi = build_midi_from_output(pyin_note_output)\n",
    "    \n",
    "    if outpath:\n",
    "        midi.write(outpath)\n",
    "        return 0\n",
    "    \n",
    "    return midi\n",
    "\n",
    "\n",
    "def build_midi_from_output(pyin_note_output):\n",
    "    midi = pretty_midi.PrettyMIDI('tempo_template.mid')\n",
    "    ch = pretty_midi.Instrument(program=25)\n",
    "    for note in pyin_note_output:\n",
    "        pitch = int(round(librosa.hz_to_midi(note['values'])[0]))\n",
    "        st = float(note['timestamp'])\n",
    "        dur = float(note['duration'])\n",
    "#         print(pitch, st, dur )\n",
    "        n = pretty_midi.Note(\n",
    "            velocity=100,\n",
    "            pitch=pitch, start=st,\n",
    "            end=st+dur\n",
    "        )\n",
    "\n",
    "        ch.notes.append(n)\n",
    "#         bend_amount = int(round((note.value - pitch) * 4096))\n",
    "#         pb = pretty_midi.PitchBend(pitch=bend_amount*q, time=st)\n",
    "#         ch.pitch_bends.append(pb)\n",
    "    midi.instruments.append(ch)\n",
    "    return midi"
   ]
  },
  {
   "cell_type": "code",
   "execution_count": 3,
   "metadata": {},
   "outputs": [
    {
     "name": "stdout",
     "output_type": "stream",
     "text": [
      "['./audio_stem/3_c_1.wav', './audio_stem/2_c_1.wav', './audio_stem/0_c_1.wav', './audio_stem/1_c_1.wav', './audio_stem/4_c_1.wav', './audio_stem/5_c_1.wav']\n"
     ]
    }
   ],
   "source": [
    "fnames = glob.glob('./audio_stem/*.wav')\n",
    "print(fnames)"
   ]
  },
  {
   "cell_type": "code",
   "execution_count": 4,
   "metadata": {
    "scrolled": true
   },
   "outputs": [
    {
     "name": "stdout",
     "output_type": "stream",
     "text": [
      "file already exist\n",
      "1 6\n",
      "file already exist\n",
      "2 6\n",
      "file already exist\n",
      "3 6\n",
      "finished loading\n",
      "finished pYin\n",
      "4 6\n",
      "finished loading\n",
      "finished pYin\n",
      "5 6\n",
      "finished loading\n",
      "finished pYin\n",
      "6 6\n"
     ]
    }
   ],
   "source": [
    "for i, fname in enumerate(fnames):\n",
    "    basename_trimed = os.path.basename(fname).split('.')[0]\n",
    "    rough_midi('./audio_stem/' + basename_trimed + '.wav', './onset_midi_est/' + basename_trimed + '.mid')\n",
    "    print(i+1, len(fnames))"
   ]
  },
  {
   "cell_type": "code",
   "execution_count": null,
   "metadata": {},
   "outputs": [],
   "source": []
  }
 ],
 "metadata": {
  "kernelspec": {
   "display_name": "Python 3",
   "language": "python",
   "name": "python3"
  },
  "language_info": {
   "codemirror_mode": {
    "name": "ipython",
    "version": 3
   },
   "file_extension": ".py",
   "mimetype": "text/x-python",
   "name": "python",
   "nbconvert_exporter": "python",
   "pygments_lexer": "ipython3",
   "version": "3.6.2"
  }
 },
 "nbformat": 4,
 "nbformat_minor": 2
}
