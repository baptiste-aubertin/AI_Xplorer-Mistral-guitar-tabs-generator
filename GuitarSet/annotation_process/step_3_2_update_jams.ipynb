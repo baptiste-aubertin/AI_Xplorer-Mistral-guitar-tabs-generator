{
 "cells": [
  {
   "cell_type": "code",
   "execution_count": 1,
   "metadata": {},
   "outputs": [],
   "source": [
    "import jams\n",
    "import glob\n",
    "import os\n",
    "import librosa"
   ]
  },
  {
   "cell_type": "code",
   "execution_count": 2,
   "metadata": {},
   "outputs": [],
   "source": [
    "jampaths = glob.glob(\"./jams/*.jams\")"
   ]
  },
  {
   "cell_type": "code",
   "execution_count": 3,
   "metadata": {},
   "outputs": [],
   "source": [
    "jampaths.sort()"
   ]
  },
  {
   "cell_type": "code",
   "execution_count": 4,
   "metadata": {},
   "outputs": [
    {
     "data": {
      "text/plain": [
       "['./jams/BN1-129-Eb_comp.jams',\n",
       " './jams/BN1-147-Gb_comp.jams',\n",
       " './jams/BN2-131-B_comp.jams',\n",
       " './jams/BN2-166-Ab_comp.jams',\n",
       " './jams/BN3-119-G_comp.jams',\n",
       " './jams/BN3-154-E_comp.jams',\n",
       " './jams/Funk1-114-Ab_comp.jams',\n",
       " './jams/Funk1-97-C_comp.jams',\n",
       " './jams/Funk2-108-Eb_comp.jams',\n",
       " './jams/Funk2-119-G_comp.jams',\n",
       " './jams/Funk3-112-C#_comp.jams',\n",
       " './jams/Funk3-98-A_comp.jams',\n",
       " './jams/Jazz1-130-D_comp.jams',\n",
       " './jams/Jazz1-200-B_comp.jams',\n",
       " './jams/Jazz2-110-Bb_comp.jams',\n",
       " './jams/Jazz2-187-F#_comp.jams',\n",
       " './jams/Jazz3-137-Eb_comp.jams',\n",
       " './jams/Jazz3-150-C_comp.jams',\n",
       " './jams/Rock1-130-A_comp.jams',\n",
       " './jams/Rock1-90-C#_comp.jams',\n",
       " './jams/Rock2-142-D_comp.jams',\n",
       " './jams/Rock2-85-F_comp.jams',\n",
       " './jams/Rock3-117-Bb_comp.jams',\n",
       " './jams/Rock3-148-C_comp.jams',\n",
       " './jams/SS1-100-C#_comp.jams',\n",
       " './jams/SS1-68-E_comp.jams',\n",
       " './jams/SS2-107-Ab_comp.jams',\n",
       " './jams/SS2-88-F_comp.jams',\n",
       " './jams/SS3-84-Bb_comp.jams',\n",
       " './jams/SS3-98-C_comp.jams']"
      ]
     },
     "execution_count": 4,
     "metadata": {},
     "output_type": "execute_result"
    }
   ],
   "source": [
    "jampaths"
   ]
  },
  {
   "cell_type": "code",
   "execution_count": 5,
   "metadata": {},
   "outputs": [
    {
     "name": "stdout",
     "output_type": "stream",
     "text": [
      "BN1 129.0 0.46511627906976744 Eb 3\n",
      "BN1 147.0 0.40816326530612246 Gb 6\n",
      "BN2 131.0 0.4580152671755725 B 11\n",
      "BN2 166.0 0.3614457831325301 Ab 8\n",
      "BN3 119.0 0.5042016806722689 G 7\n",
      "BN3 154.0 0.38961038961038963 E 4\n",
      "Funk1 114.0 0.5263157894736842 Ab 8\n",
      "Funk1 97.0 0.6185567010309279 C 0\n",
      "Funk2 108.0 0.5555555555555556 Eb 3\n",
      "Funk2 119.0 0.5042016806722689 G 7\n",
      "Funk3 112.0 0.5357142857142857 C# 1\n",
      "Funk3 98.0 0.6122448979591837 A 9\n",
      "Jazz1 130.0 0.46153846153846156 D 2\n",
      "Jazz1 200.0 0.3 B 11\n",
      "Jazz2 110.0 0.5454545454545454 Bb 10\n",
      "Jazz2 187.0 0.32085561497326204 F# 6\n",
      "Jazz3 137.0 0.43795620437956206 Eb 3\n",
      "Jazz3 150.0 0.4 C 0\n",
      "Rock1 130.0 0.46153846153846156 A 9\n",
      "Rock1 90.0 0.6666666666666666 C# 1\n",
      "Rock2 142.0 0.4225352112676056 D 2\n",
      "Rock2 85.0 0.7058823529411765 F 5\n",
      "Rock3 117.0 0.5128205128205128 Bb 10\n",
      "Rock3 148.0 0.40540540540540543 C 0\n",
      "SS1 100.0 0.6 C# 1\n",
      "SS1 68.0 0.8823529411764706 E 4\n",
      "SS2 107.0 0.5607476635514018 Ab 8\n",
      "SS2 88.0 0.6818181818181818 F 5\n",
      "SS3 84.0 0.7142857142857143 Bb 10\n",
      "SS3 98.0 0.6122448979591837 C 0\n"
     ]
    }
   ],
   "source": [
    "# i=2\n",
    "# jampath = jampaths[i]\n",
    "for jampath in jampaths:\n",
    "    piece, tempo, key = os.path.basename(jampath).split('_')[0].split('-')\n",
    "    tempo = float(tempo)\n",
    "    beat_step = 60/tempo\n",
    "    tran_semi = librosa.note_to_midi(key) % 12\n",
    "    prog = piece[-1]\n",
    "    print (piece, tempo, beat_step, key, tran_semi)\n",
    "\n",
    "    jam = jams.load(jampath)\n",
    "    if len(jam.search(namespace='beat_position')) == 0: \n",
    "        ann_beat = jams.Annotation(\n",
    "            namespace='beat_position', time=0, \n",
    "            duration=jam.file_metadata.duration\n",
    "        )\n",
    "\n",
    "        if prog == '1':\n",
    "            num_measure = 12\n",
    "        else:\n",
    "            num_measure = 16\n",
    "\n",
    "        for i in range(num_measure * 4):\n",
    "            measure = int(i/4) + 1 # measure number starts with one, not zero\n",
    "            time = i * beat_step\n",
    "            value = {\n",
    "                \"position\": (i%4) + 1,\n",
    "                \"measure\": measure,\n",
    "                \"num_beats\": 4,\n",
    "                \"beat_units\": 4\n",
    "            }\n",
    "            ann_beat.append(time=time, duration=0, value=value)\n",
    "            ann_tempo = jams.Annotation(namespace='tempo', time=0, duration=jam.file_metadata.duration)\n",
    "            ann_tempo.append(time=0, duration=jam.file_metadata.duration, value=tempo, confidence=1.0)\n",
    "\n",
    "        ann_chord = jams.Annotation(\n",
    "            namespace='chord', time=0, \n",
    "            duration=jam.file_metadata.duration\n",
    "        )\n",
    "\n",
    "        prog1_list = ['C:maj', 'F:maj', 'C:maj', 'G:maj', 'F:maj', 'C:maj']\n",
    "        prog2_list = ['F:min', 'Bb:7', 'Eb:maj', 'Ab:maj','D:hdim7','G:7', 'C:min', \n",
    "                      'F:min', 'Bb:7', 'Eb:maj', 'Ab:maj','D:hdim7','G:7', 'C:min']\n",
    "        prog3_list = ['C:maj', 'G:maj', 'A:min', 'E:min', 'F:maj', 'C:maj','F:maj', 'G:maj',\n",
    "                      'C:maj', 'G:maj', 'A:min', 'E:min', 'F:maj', 'C:maj','F:maj', 'G:maj']\n",
    "\n",
    "        chord_change = []\n",
    "        if prog is '1':\n",
    "            prog_list = prog1_list\n",
    "            for beat in ann_beat:\n",
    "                if beat.value['measure'] in [1,5,7,9,10,11] and beat.value['position'] == 1:\n",
    "                    chord_change.append(beat.time)        \n",
    "        if prog is '2':\n",
    "            prog_list = prog2_list\n",
    "            for beat in ann_beat:\n",
    "                if beat.value['measure'] not in [8, 16] and beat.value['position'] == 1:\n",
    "                    chord_change.append(beat.time)\n",
    "        if prog is '3':\n",
    "            prog_list = prog3_list\n",
    "            for beat in ann_beat:\n",
    "                if beat.value['position'] == 1:\n",
    "                    chord_change.append(beat.time)\n",
    "        chord_change.sort()\n",
    "\n",
    "        for i, t in enumerate(chord_change):\n",
    "            if i==len(chord_change)-1:\n",
    "                duration = jam.file_metadata.duration - t\n",
    "            else:\n",
    "                duration = chord_change[i+1] - t\n",
    "\n",
    "            chord = prog_list[i]\n",
    "            root_in_c, quality = chord.split(':')\n",
    "            root_in_key = librosa.midi_to_note(librosa.note_to_midi(root_in_c) + tran_semi)[:-1]\n",
    "            transposed_chord = ':'.join([root_in_key, quality])\n",
    "            ann_chord.append(time=t, duration=duration, value=transposed_chord)\n",
    "\n",
    "        jam.annotations.append(ann_beat)\n",
    "        jam.annotations.append(ann_tempo)\n",
    "        jam.annotations.append(ann_chord)\n",
    "        jam.save(jampath)\n",
    "        "
   ]
  },
  {
   "cell_type": "code",
   "execution_count": null,
   "metadata": {},
   "outputs": [],
   "source": []
  },
  {
   "cell_type": "code",
   "execution_count": null,
   "metadata": {},
   "outputs": [],
   "source": []
  }
 ],
 "metadata": {
  "anaconda-cloud": {},
  "kernelspec": {
   "display_name": "Python 3",
   "language": "python",
   "name": "python3"
  },
  "language_info": {
   "codemirror_mode": {
    "name": "ipython",
    "version": 3
   },
   "file_extension": ".py",
   "mimetype": "text/x-python",
   "name": "python",
   "nbconvert_exporter": "python",
   "pygments_lexer": "ipython3",
   "version": "3.6.4"
  }
 },
 "nbformat": 4,
 "nbformat_minor": 2
}
