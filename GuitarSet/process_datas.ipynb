{
 "cells": [
  {
   "cell_type": "code",
   "execution_count": 1,
   "metadata": {},
   "outputs": [],
   "source": [
    "%load_ext autoreload\n",
    "%autoreload "
   ]
  },
  {
   "cell_type": "code",
   "execution_count": 2,
   "metadata": {},
   "outputs": [],
   "source": [
    "import jams\n",
    "import os\n",
    "import matplotlib.pyplot as plt\n",
    "\n",
    "import visualize.interpreter as itp"
   ]
  },
  {
   "cell_type": "code",
   "execution_count": 3,
   "metadata": {},
   "outputs": [],
   "source": [
    "## Change This Cell!\n",
    "anno_path = \"/Users/baptiste/Documents/mistral/dataset/annotation\"\n",
    "excerpt = \"00_Rock2-85-F_comp.jams\""
   ]
  },
  {
   "cell_type": "code",
   "execution_count": 4,
   "metadata": {},
   "outputs": [],
   "source": [
    "jam = jams.load(os.path.join(anno_path, excerpt))"
   ]
  },
  {
   "cell_type": "code",
   "execution_count": 5,
   "metadata": {},
   "outputs": [],
   "source": [
    "style_name = {\n",
    "    \"Rock\" : \"Rock\",\n",
    "    \"SS\": \"Singer-Songwriter\",\n",
    "    \"Jazz\": \"Jazz\",\n",
    "    \"Funk\": \"Funk\",\n",
    "    \"BN\": \"Bossa Nova\"\n",
    " }"
   ]
  },
  {
   "cell_type": "code",
   "execution_count": 6,
   "metadata": {},
   "outputs": [
    {
     "data": {
      "text/plain": [
       "('Rock', 'F')"
      ]
     },
     "execution_count": 6,
     "metadata": {},
     "output_type": "execute_result"
    }
   ],
   "source": [
    "def extract_style_and_key(file_name:str):\n",
    "    style = file_name.split(\"_\")[1].split(\"-\")[0][:-1]\n",
    "    key = file_name.split(\"-\")[-1].split(\"_\")[0]\n",
    "    return style_name[style], key\n",
    "    \n",
    "extract_style_and_key(excerpt)"
   ]
  },
  {
   "cell_type": "code",
   "execution_count": 7,
   "metadata": {},
   "outputs": [],
   "source": [
    "from typing import List, Dict\n",
    "import numpy as np\n",
    "\n",
    "def align_notes(strings_datas: Dict[str, List[float]], delta=0.05) -> Dict[str, List[float]]:\n",
    "    \"\"\"\n",
    "    Align notes of each string based on a delta time threshold.\n",
    "    \"\"\"\n",
    "    \n",
    "    aligned_strings_datas = {string: {'time': np.array(data['time'])} for string, data in strings_datas.items()}\n",
    "    \n",
    "    all_times = []\n",
    "    for string in aligned_strings_datas.keys():\n",
    "        all_times.extend(aligned_strings_datas[string]['time'])\n",
    "    \n",
    "    all_times = np.unique(all_times)\n",
    "    \n",
    "    for string in aligned_strings_datas.keys():\n",
    "        times = aligned_strings_datas[string]['time']\n",
    "        aligned_times = []\n",
    "        for t in times:\n",
    "            close_times = all_times[np.abs(all_times - t) < delta]\n",
    "            if len(close_times) > 0:\n",
    "                aligned_times.append(close_times[0])\n",
    "            else:\n",
    "                aligned_times.append(t)\n",
    "        aligned_strings_datas[string]['time'] = aligned_times\n",
    "\n",
    "    # Convert numpy arrays back to lists\n",
    "    for string in aligned_strings_datas.keys():\n",
    "        aligned_strings_datas[string]['time'] = list(aligned_strings_datas[string]['time'])\n",
    "        aligned_strings_datas[string]['fret'] = strings_datas[string]['fret']\n",
    "    \n",
    "    return aligned_strings_datas"
   ]
  },
  {
   "cell_type": "code",
   "execution_count": 8,
   "metadata": {},
   "outputs": [],
   "source": [
    "def to_ascii(strings_datas: Dict[str, List[float]], beat_times: List[float]) -> str:\n",
    "    \"\"\"\n",
    "    Convert aligned strings data to ascii tablature.\n",
    "    \"\"\"\n",
    "    tab = [[[-1 for _ in range(4)] for _ in range(6)] for _ in range(len(beat_times))]\n",
    "    for i in range(1, len(beat_times)):\n",
    "        beats_intervals = list(np.linspace(beat_times[i-1], beat_times[i], 4))\n",
    "        for beat_interval in range(1, len(beats_intervals)):\n",
    "            for string_i, string in enumerate(strings_datas.keys()):\n",
    "                times = strings_datas[string]['time']\n",
    "                frets = strings_datas[string]['fret']\n",
    "                for t, f in zip(times, frets):\n",
    "                    if t >= beats_intervals[beat_interval-1] and t < beats_intervals[beat_interval]:\n",
    "                        tab[i-1][5-int(string_i)][beat_interval-1] = str(f)\n",
    "    \n",
    "    \n",
    "    cleanest_tab = []\n",
    "    for measure in tab:\n",
    "        notes = len([note for beat in measure for note in beat if note != -1])\n",
    "        if notes > 0:\n",
    "            cleanest_tab.append(measure)\n",
    "    ascii_tab = []\n",
    "    \n",
    "    for measure in cleanest_tab:\n",
    "        ascii_tab_measure = [\"\"]*6\n",
    "        beats = [[measure[j][i] for j in range(6)] for i in range(4)]\n",
    "\n",
    "\n",
    "        for beat in beats:\n",
    "            max_n_char = max([len(s) for s in beat if s != -1]+[1])\n",
    "            for i, note in enumerate(beat):\n",
    "                if note == -1:\n",
    "                    ascii_tab_measure[i] += \"-\"*max_n_char\n",
    "                elif len(str(note)) == 1:\n",
    "                    ascii_tab_measure[i] += note + \"-\"*(max_n_char-1)\n",
    "                else:\n",
    "                    ascii_tab_measure[i] += note\n",
    "            ascii_tab_measure = [_ascii_tab_measure+\"-\"  for _ascii_tab_measure in ascii_tab_measure] \n",
    "        \n",
    "        ascii_tab.append(ascii_tab_measure)\n",
    "    return ascii_tab"
   ]
  },
  {
   "cell_type": "code",
   "execution_count": 9,
   "metadata": {},
   "outputs": [],
   "source": [
    "import numpy as np\n",
    "import pretty_midi\n",
    "from matplotlib import lines as mlines, pyplot as plt\n",
    "import tempfile\n",
    "import librosa\n",
    "import sox\n",
    "import os\n",
    "import pandas as pd\n",
    "\n",
    "def tablaturize_jams_ascii(jam):\n",
    "    str_midi_dict = {0: 40, 1: 45, 2: 50, 3: 55, 4: 59, 5: 64}\n",
    "    s = 0\n",
    "    string_names = [\"E\", \"A\", \"D\", \"G\", \"B\", \"e\"]\n",
    "    \n",
    "    strings_datas = {}\n",
    "\n",
    "    strings = jam.search(namespace='note_midi')\n",
    "    if len(strings) == 0:\n",
    "        print('No midi notes found')\n",
    "        strings = jam.search(namespace='pitch_midi')\n",
    "    \n",
    "    for string_tran in strings:\n",
    "        \n",
    "        times = []\n",
    "        frets = []\n",
    "        for note in string_tran:\n",
    "            \n",
    "            start_time = note[0]\n",
    "            midi_note = note[2]\n",
    "            fret = int(round(midi_note - str_midi_dict[s]))\n",
    "            \n",
    "            times.append(start_time)\n",
    "            frets.append(fret)\n",
    "            # print(fret)\n",
    "        \n",
    "        strings_datas[string_names[s]] = {'time': times, 'fret': frets}\n",
    "        s += 1\n",
    "    \n",
    "    string_datas = align_notes(strings_datas)\n",
    "\n",
    "        \n",
    "            \n",
    "    \n",
    "\n",
    "    beat_times = []\n",
    "\n",
    "    # # Beats\n",
    "    anno_b = jam.search(namespace='beat_position')[0]\n",
    "    for b in anno_b.data:\n",
    "        t = b.time\n",
    "        beat_times.append(t)\n",
    "        \n",
    "    ascii_tab = to_ascii(string_datas, beat_times)\n",
    "    \n",
    "    chord_keys = [\"e\", \"B\", \"G\", \"D\", \"A\", \"E\"]\n",
    "    \n",
    "    str_ascii_tab = \"\"\n",
    "    for i in range(6):\n",
    "        str_ascii_tab+=chord_keys[i]+\"|\"\n",
    "        for measure in ascii_tab:\n",
    "            str_ascii_tab+=measure[i]\n",
    "            str_ascii_tab += \"|\"\n",
    "        if i != 5:\n",
    "            str_ascii_tab += \"\\n\"\n",
    "\n",
    "\n",
    "    return str_ascii_tab"
   ]
  },
  {
   "cell_type": "code",
   "execution_count": null,
   "metadata": {},
   "outputs": [],
   "source": []
  },
  {
   "cell_type": "code",
   "execution_count": null,
   "metadata": {},
   "outputs": [],
   "source": []
  },
  {
   "cell_type": "code",
   "execution_count": 10,
   "metadata": {},
   "outputs": [],
   "source": [
    "from tqdm import tqdm"
   ]
  },
  {
   "cell_type": "code",
   "execution_count": 28,
   "metadata": {},
   "outputs": [
    {
     "name": "stdout",
     "output_type": "stream",
     "text": [
      "Counter({'C': 48, 'C#': 36, 'Bb': 36, 'Ab': 36, 'Eb': 36, 'D': 24, 'G': 24, 'B': 24, 'E': 24, 'F': 24, 'A': 24, 'F#': 12, 'Gb': 12})\n",
      "Counter({'Singer-Songwriter': 72, 'Jazz': 72, 'Rock': 72, 'Funk': 72, 'Bossa Nova': 72})\n"
     ]
    },
    {
     "data": {
      "text/plain": [
       "({'Bossa Nova', 'Funk', 'Jazz', 'Rock', 'Singer-Songwriter'},\n",
       " {'A', 'Ab', 'B', 'Bb', 'C', 'C#', 'D', 'E', 'Eb', 'F', 'F#', 'G', 'Gb'})"
      ]
     },
     "execution_count": 28,
     "metadata": {},
     "output_type": "execute_result"
    }
   ],
   "source": [
    "\n",
    "styles = []\n",
    "keys = []\n",
    "for f in os.listdir(anno_path):\n",
    "    style, key = extract_style_and_key(f)\n",
    "    styles.append(style)\n",
    "    keys.append(key)\n",
    "\n",
    "# count each keys \n",
    "\n",
    "from collections import Counter\n",
    "\n",
    "print(Counter(keys))\n",
    "\n",
    "# count each styles\n",
    "\n",
    "print(Counter(styles))\n",
    "\n",
    "set(styles), set(keys)"
   ]
  },
  {
   "cell_type": "code",
   "execution_count": 11,
   "metadata": {},
   "outputs": [
    {
     "name": "stderr",
     "output_type": "stream",
     "text": [
      "  0%|          | 0/360 [00:00<?, ?it/s]"
     ]
    },
    {
     "name": "stderr",
     "output_type": "stream",
     "text": [
      "100%|██████████| 360/360 [01:58<00:00,  3.03it/s]\n"
     ]
    }
   ],
   "source": [
    "styles = []\n",
    "keys = []\n",
    "difficulties = []\n",
    "tabs = []\n",
    "\n",
    "\n",
    "\n",
    "for path in tqdm(os.listdir(anno_path)):\n",
    "    if path.endswith(\".jams\"):\n",
    "        jam = jams.load(os.path.join(anno_path, path))\n",
    "        tabs.append(tablaturize_jams_ascii(jam))\n",
    "        style, key = extract_style_and_key(path)\n",
    "        styles.append(style)\n",
    "        keys.append(key)\n",
    "\n",
    "        "
   ]
  },
  {
   "cell_type": "code",
   "execution_count": 12,
   "metadata": {},
   "outputs": [],
   "source": [
    "df = pd.DataFrame({\"Key\": keys, \"Style\": styles, \"Tablatures\": tabs})\n",
    "\n",
    "df.to_csv(\"dataset_less_sep.csv\", index=False)"
   ]
  },
  {
   "cell_type": "code",
   "execution_count": null,
   "metadata": {},
   "outputs": [],
   "source": []
  },
  {
   "cell_type": "code",
   "execution_count": null,
   "metadata": {},
   "outputs": [],
   "source": []
  },
  {
   "cell_type": "code",
   "execution_count": null,
   "metadata": {},
   "outputs": [],
   "source": []
  },
  {
   "cell_type": "code",
   "execution_count": null,
   "metadata": {},
   "outputs": [],
   "source": []
  },
  {
   "cell_type": "code",
   "execution_count": null,
   "metadata": {},
   "outputs": [],
   "source": []
  },
  {
   "cell_type": "code",
   "execution_count": null,
   "metadata": {},
   "outputs": [],
   "source": []
  },
  {
   "cell_type": "code",
   "execution_count": null,
   "metadata": {},
   "outputs": [],
   "source": []
  },
  {
   "cell_type": "code",
   "execution_count": 33,
   "metadata": {},
   "outputs": [],
   "source": [
    "import requests\n",
    "import pandas as pd\n",
    "import time\n",
    "from tqdm import tqdm\n",
    "\n",
    "prompt = \"\"\"Give me the guitar four measures following this one in the key of Eb and in the style of Jazz:\n",
    "e|--------------|--------------|--------------|--------------|\n",
    "B|--------------|--------------|--------------|--------------|\n",
    "G|--------------|--------------|--------------|--------------|\n",
    "D|-----6--6-----|-----8--------|--6-----------|--------------|\n",
    "A|--------------|--------------|--------------|--9-----------|\n",
    "E|--------------|--------------|--------------|--------------|\"\"\"\n",
    "\n",
    "# Make an API request for each prompt\n",
    "api_request_data = {\n",
    "    'prompt': prompt,\n",
    "    'max_tokens': 300,  # Adjust these parameters as needed\n",
    "    'temperature': 0.0,\n",
    "    'top_p': 1.0,\n",
    "    'prompt': prompt,\n",
    "}\n",
    "\n",
    "# Make the API request (you may want to use the actual API endpoint URL)\n",
    "api_response = requests.post('http://195.242.24.65:80/generate', json=api_request_data)\n",
    "\n",
    "# Record the end time for the API request\n",
    "end_time = time.time()\n",
    "# Calculate the total time taken for this API request\n",
    "\n",
    "\n",
    "\n"
   ]
  },
  {
   "cell_type": "code",
   "execution_count": null,
   "metadata": {},
   "outputs": [],
   "source": [
    "def postprocess_output(input:str, output: str) -> str:\n",
    "    # find the length of measures\n",
    "    inputs = input.split(\"\\n\")\n",
    "    inputs = [x.split(\"|\") for x in inputs]\n",
    "    length_measures = len(inputs[0][1])\n",
    "\n",
    "    output = output.split(\"\\n\")\n",
    "    output_corrected = input.split(\"\\n\")\n",
    "\n",
    "    for i in range(len(output)//6):\n",
    "        # check \n",
    "        for j in range(6):\n",
    "            if output[i*6+j][0] != inputs[j][0]:\n",
    "\n",
    "                return output_corrected\n",
    "            measures = output[i*6+j].split(\"|\")\n",
    "            for k in range(1,len(measures)-1):\n",
    "                if len(measures[k]) != length_measures:\n",
    "                    return output_corrected\n",
    "            if len(measures[-1]) != 0:\n",
    "                return output_corrected\n",
    "        # add the measures\n",
    "        for j in range(6):\n",
    "            output_corrected[j] += output[i*6+j][2:]\n",
    "    return output_corrected\n",
    "\n",
    "def get_output(text:str):\n",
    "    return text.split[\"[/INST]\"][1]"
   ]
  },
  {
   "cell_type": "code",
   "execution_count": 34,
   "metadata": {},
   "outputs": [
    {
     "ename": "KeyError",
     "evalue": "'text'",
     "output_type": "error",
     "traceback": [
      "\u001b[0;31m---------------------------------------------------------------------------\u001b[0m",
      "\u001b[0;31mKeyError\u001b[0m                                  Traceback (most recent call last)",
      "Cell \u001b[0;32mIn[34], line 1\u001b[0m\n\u001b[0;32m----> 1\u001b[0m \u001b[38;5;28mprint\u001b[39m(\u001b[43mapi_response\u001b[49m\u001b[38;5;241;43m.\u001b[39;49m\u001b[43mjson\u001b[49m\u001b[43m(\u001b[49m\u001b[43m)\u001b[49m\u001b[43m[\u001b[49m\u001b[38;5;124;43m\"\u001b[39;49m\u001b[38;5;124;43mtext\u001b[39;49m\u001b[38;5;124;43m\"\u001b[39;49m\u001b[43m]\u001b[49m[\u001b[38;5;241m0\u001b[39m])\n",
      "\u001b[0;31mKeyError\u001b[0m: 'text'"
     ]
    }
   ],
   "source": [
    "print(api_response.json()[\"text\"][0])"
   ]
  },
  {
   "cell_type": "code",
   "execution_count": 13,
   "metadata": {},
   "outputs": [],
   "source": [
    "instructed_chords = jam.search(namespace='chord')[0]\n",
    "performed_chords = jam.search(namespace='chord')[1]"
   ]
  },
  {
   "cell_type": "code",
   "execution_count": 14,
   "metadata": {},
   "outputs": [
    {
     "data": {
      "image/png": "[encoded data removed]",
      "text/plain": [
       "<Figure size 2400x2100 with 2 Axes>"
      ]
     },
     "metadata": {},
     "output_type": "display_data"
    }
   ],
   "source": [
    "fig = plt.figure(figsize=(8,7), dpi=300)\n",
    "ax1 = plt.subplot(211)\n",
    "# itp.visualize_jams_pt(jam) #pt for pitch track\n",
    "ax2 = plt.subplot(212, sharex=ax1)\n",
    "itp.tablaturize_jams(jam)\n",
    "plt.xlim(0, 3) # this is the time window in seconds that I'm plotting\n",
    "\n",
    "# itp.add_annotations(ax1, performed_chords, ygrow_ratio=0.04, label_xoffset=0.06, label_yoffset=2)\n",
    "# itp.add_annotations(ax2, instructed_chords, ygrow_ratio=0.2, label_xoffset=0.06, label_yoffset=-0.4)\n",
    "plt.show()"
   ]
  },
  {
   "cell_type": "code",
   "execution_count": 15,
   "metadata": {},
   "outputs": [
    {
     "name": "stdout",
     "output_type": "stream",
     "text": [
      "E |0--0---0------0--0---0------0--0---0------0--0---0-0--------------------------------0------0--0--0----0---0-0--------------------------------0--0---0--0---0--0---0--0---\n",
      "A |--2---2------2--2---2--2------2---2-2------2----2------00------0--4----0-0---0--0-----2---2-2------2-----2-2---0-2-----22-2---20--0------------2--22--2---2--2---2--2---2\n",
      "D |-----2------2------2-----------22-----3--------2------20---2--2--2---2--2---2-2---------2------2----2---2-----20---4-4----4--4-2-2---2---2--2----2-------2------2------2-\n",
      "G |---1------1------1-------------1--------------1-----1--------------------------------------------------------------------------------------------------------------------\n",
      "B |------------------------0-----------------------------------2------2------2------232----------------------------------------------2---32---------------------------------\n",
      "e |-------------------------------------------------------------------------------------------------------------------------------------------------------------------------\n"
     ]
    }
   ],
   "source": [
    "itp.tablaturize_jams_ascii(jam)"
   ]
  },
  {
   "cell_type": "code",
   "execution_count": 16,
   "metadata": {},
   "outputs": [
    {
     "data": {
      "text/plain": [
       "<Axes: xlabel='Time (sec)', ylabel='String Number'>"
      ]
     },
     "execution_count": 16,
     "metadata": {},
     "output_type": "execute_result"
    }
   ],
   "source": [
    "ax2"
   ]
  }
 ],
 "metadata": {
  "kernelspec": {
   "display_name": "Python 3",
   "language": "python",
   "name": "python3"
  },
  "language_info": {
   "codemirror_mode": {
    "name": "ipython",
    "version": 3
   },
   "file_extension": ".py",
   "mimetype": "text/x-python",
   "name": "python",
   "nbconvert_exporter": "python",
   "pygments_lexer": "ipython3",
   "version": "3.9.18"
  }
 },
 "nbformat": 4,
 "nbformat_minor": 2
}
